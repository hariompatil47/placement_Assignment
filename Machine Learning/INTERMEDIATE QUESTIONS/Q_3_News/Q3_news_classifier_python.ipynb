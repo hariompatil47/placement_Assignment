{
 "cells": [
  {
   "cell_type": "code",
   "execution_count": 1,
   "metadata": {},
   "outputs": [],
   "source": [
    "#import nltk\n",
    "\n",
    "#nltk.download('omw-1.4')\n"
   ]
  },
  {
   "cell_type": "code",
   "execution_count": 2,
   "metadata": {},
   "outputs": [
    {
     "name": "stderr",
     "output_type": "stream",
     "text": [
      "[nltk_data] Downloading package stopwords to\n",
      "[nltk_data]     C:\\Users\\hario\\AppData\\Roaming\\nltk_data...\n",
      "[nltk_data]   Package stopwords is already up-to-date!\n",
      "[nltk_data] Downloading package wordnet to\n",
      "[nltk_data]     C:\\Users\\hario\\AppData\\Roaming\\nltk_data...\n",
      "[nltk_data]   Package wordnet is already up-to-date!\n"
     ]
    }
   ],
   "source": [
    "# import libraries\n",
    "import pandas as pd\n",
    "import matplotlib.pyplot as plt\n",
    "import numpy as np\n",
    "import seaborn as sns\n",
    "import nltk\n",
    "from nltk.corpus import stopwords\n",
    "from nltk.stem import WordNetLemmatizer\n",
    "# get nltk data\n",
    "nltk.download('stopwords')\n",
    "nltk.download('wordnet')\n",
    "STOPWORDS = set(stopwords.words('english'))"
   ]
  },
  {
   "cell_type": "code",
   "execution_count": 3,
   "metadata": {},
   "outputs": [
    {
     "data": {
      "text/html": [
       "<div>\n",
       "<style scoped>\n",
       "    .dataframe tbody tr th:only-of-type {\n",
       "        vertical-align: middle;\n",
       "    }\n",
       "\n",
       "    .dataframe tbody tr th {\n",
       "        vertical-align: top;\n",
       "    }\n",
       "\n",
       "    .dataframe thead th {\n",
       "        text-align: right;\n",
       "    }\n",
       "</style>\n",
       "<table border=\"1\" class=\"dataframe\">\n",
       "  <thead>\n",
       "    <tr style=\"text-align: right;\">\n",
       "      <th></th>\n",
       "      <th>link</th>\n",
       "      <th>headline</th>\n",
       "      <th>category</th>\n",
       "      <th>short_description</th>\n",
       "      <th>authors</th>\n",
       "      <th>date</th>\n",
       "    </tr>\n",
       "  </thead>\n",
       "  <tbody>\n",
       "    <tr>\n",
       "      <th>0</th>\n",
       "      <td>https://www.huffpost.com/entry/covid-boosters-...</td>\n",
       "      <td>Over 4 Million Americans Roll Up Sleeves For O...</td>\n",
       "      <td>U.S. NEWS</td>\n",
       "      <td>Health experts said it is too early to predict...</td>\n",
       "      <td>Carla K. Johnson, AP</td>\n",
       "      <td>2022-09-23</td>\n",
       "    </tr>\n",
       "    <tr>\n",
       "      <th>1</th>\n",
       "      <td>https://www.huffpost.com/entry/american-airlin...</td>\n",
       "      <td>American Airlines Flyer Charged, Banned For Li...</td>\n",
       "      <td>U.S. NEWS</td>\n",
       "      <td>He was subdued by passengers and crew when he ...</td>\n",
       "      <td>Mary Papenfuss</td>\n",
       "      <td>2022-09-23</td>\n",
       "    </tr>\n",
       "    <tr>\n",
       "      <th>2</th>\n",
       "      <td>https://www.huffpost.com/entry/funniest-tweets...</td>\n",
       "      <td>23 Of The Funniest Tweets About Cats And Dogs ...</td>\n",
       "      <td>COMEDY</td>\n",
       "      <td>\"Until you have a dog you don't understand wha...</td>\n",
       "      <td>Elyse Wanshel</td>\n",
       "      <td>2022-09-23</td>\n",
       "    </tr>\n",
       "    <tr>\n",
       "      <th>3</th>\n",
       "      <td>https://www.huffpost.com/entry/funniest-parent...</td>\n",
       "      <td>The Funniest Tweets From Parents This Week (Se...</td>\n",
       "      <td>PARENTING</td>\n",
       "      <td>\"Accidentally put grown-up toothpaste on my to...</td>\n",
       "      <td>Caroline Bologna</td>\n",
       "      <td>2022-09-23</td>\n",
       "    </tr>\n",
       "    <tr>\n",
       "      <th>4</th>\n",
       "      <td>https://www.huffpost.com/entry/amy-cooper-lose...</td>\n",
       "      <td>Woman Who Called Cops On Black Bird-Watcher Lo...</td>\n",
       "      <td>U.S. NEWS</td>\n",
       "      <td>Amy Cooper accused investment firm Franklin Te...</td>\n",
       "      <td>Nina Golgowski</td>\n",
       "      <td>2022-09-22</td>\n",
       "    </tr>\n",
       "  </tbody>\n",
       "</table>\n",
       "</div>"
      ],
      "text/plain": [
       "                                                link  \\\n",
       "0  https://www.huffpost.com/entry/covid-boosters-...   \n",
       "1  https://www.huffpost.com/entry/american-airlin...   \n",
       "2  https://www.huffpost.com/entry/funniest-tweets...   \n",
       "3  https://www.huffpost.com/entry/funniest-parent...   \n",
       "4  https://www.huffpost.com/entry/amy-cooper-lose...   \n",
       "\n",
       "                                            headline   category  \\\n",
       "0  Over 4 Million Americans Roll Up Sleeves For O...  U.S. NEWS   \n",
       "1  American Airlines Flyer Charged, Banned For Li...  U.S. NEWS   \n",
       "2  23 Of The Funniest Tweets About Cats And Dogs ...     COMEDY   \n",
       "3  The Funniest Tweets From Parents This Week (Se...  PARENTING   \n",
       "4  Woman Who Called Cops On Black Bird-Watcher Lo...  U.S. NEWS   \n",
       "\n",
       "                                   short_description               authors  \\\n",
       "0  Health experts said it is too early to predict...  Carla K. Johnson, AP   \n",
       "1  He was subdued by passengers and crew when he ...        Mary Papenfuss   \n",
       "2  \"Until you have a dog you don't understand wha...         Elyse Wanshel   \n",
       "3  \"Accidentally put grown-up toothpaste on my to...      Caroline Bologna   \n",
       "4  Amy Cooper accused investment firm Franklin Te...        Nina Golgowski   \n",
       "\n",
       "        date  \n",
       "0 2022-09-23  \n",
       "1 2022-09-23  \n",
       "2 2022-09-23  \n",
       "3 2022-09-23  \n",
       "4 2022-09-22  "
      ]
     },
     "execution_count": 3,
     "metadata": {},
     "output_type": "execute_result"
    }
   ],
   "source": [
    "# load dataset\n",
    "news_df = pd.read_json('News_Category_Dataset_v3.json', lines=True)\n",
    "news_df.head()"
   ]
  },
  {
   "cell_type": "code",
   "execution_count": 4,
   "metadata": {},
   "outputs": [
    {
     "name": "stdout",
     "output_type": "stream",
     "text": [
      "['U.S. NEWS' 'COMEDY' 'PARENTING' 'WORLD NEWS' 'CULTURE & ARTS' 'TECH'\n",
      " 'SPORTS' 'ENTERTAINMENT' 'POLITICS' 'WEIRD NEWS' 'ENVIRONMENT'\n",
      " 'EDUCATION' 'CRIME' 'SCIENCE' 'WELLNESS' 'BUSINESS' 'STYLE & BEAUTY'\n",
      " 'FOOD & DRINK' 'MEDIA' 'QUEER VOICES' 'HOME & LIVING' 'WOMEN'\n",
      " 'BLACK VOICES' 'TRAVEL' 'MONEY' 'RELIGION' 'LATINO VOICES' 'IMPACT'\n",
      " 'WEDDINGS' 'COLLEGE' 'PARENTS' 'ARTS & CULTURE' 'STYLE' 'GREEN' 'TASTE'\n",
      " 'HEALTHY LIVING' 'THE WORLDPOST' 'GOOD NEWS' 'WORLDPOST' 'FIFTY' 'ARTS'\n",
      " 'DIVORCE']\n"
     ]
    }
   ],
   "source": [
    "# print unique categories\n",
    "print(news_df.category.unique())\n"
   ]
  },
  {
   "cell_type": "code",
   "execution_count": 5,
   "metadata": {},
   "outputs": [],
   "source": [
    "# combining some raw data categories that are very close\n",
    "news_df.category = news_df.category.map(\n",
    "    lambda x: \"WORLD\" if x == \"WORLDPOST\" or x == \"THE WORLDPOST\" or x == 'WORLD NEWS' else x)\n",
    "news_df.category = news_df.category.map(\n",
    "    lambda y: \"ARTS & CULTURE\" if y == \"ARTS\" or y == \"ARTS & CULTURE\" else y)\n",
    "news_df.category = news_df.category.map(\n",
    "    lambda z: \"EDUCATION\" if z == \"EDUCATION\" or z == \"COLLEGE\" else z)\n",
    "news_df.category = news_df.category.map(\n",
    "    lambda d: \"HEALTH\" if d == \"HEALTHY LIVING\" else d)\n",
    "\n",
    "# removing rows with description size less than 20\n",
    "mask = news_df['short_description'].str.len() > 20\n",
    "news_df = news_df.loc[mask]\n",
    "# combines headline and short_description for the input\n",
    "news_df['text'] = news_df.headline+\" \"+news_df.short_description\n",
    "# replace empty values with NaN\n",
    "news_df = news_df.replace(\"\", np.NaN)\n",
    "# drop rows with value as NaN\n",
    "news_df.dropna(axis=0, inplace=True)"
   ]
  },
  {
   "cell_type": "code",
   "execution_count": 6,
   "metadata": {},
   "outputs": [
    {
     "name": "stderr",
     "output_type": "stream",
     "text": [
      "C:\\Users\\hario\\AppData\\Local\\Temp\\ipykernel_31568\\1710453202.py:20: FutureWarning: The default value of regex will change from True to False in a future version.\n",
      "  news_df['text'] = news_df['text'].str.replace('\\d+', '')\n"
     ]
    }
   ],
   "source": [
    "# removing symbols,digits,stopwords from text and lemmatizing each words in the text.\n",
    "import re\n",
    "symbols_dt = re.compile('[/(){}\\[\\]\\|@,;]')\n",
    "symbols_dt2 = re.compile('[^0-9a-z +_]')\n",
    "STOPWORDS = set(stopwords.words('english'))\n",
    "lemmatizer = WordNetLemmatizer()\n",
    "\n",
    "\n",
    "def clean_text(text):\n",
    "    text = text.lower()\n",
    "    text = symbols_dt.sub(' ', text)  # remove symbols in text data\n",
    "    text = symbols_dt2.sub('', text)\n",
    "    # delete stopwords from text\n",
    "    text = ' '.join(word for word in text.split() if word not in STOPWORDS)\n",
    "    text = ' '.join([lemmatizer.lemmatize(w) for w in text.split()])\n",
    "    return text\n",
    "\n",
    "\n",
    "news_df['text'] = news_df['text'].apply(clean_text)\n",
    "news_df['text'] = news_df['text'].str.replace('\\d+', '')"
   ]
  },
  {
   "cell_type": "code",
   "execution_count": 7,
   "metadata": {},
   "outputs": [
    {
     "data": {
      "text/html": [
       "<div>\n",
       "<style scoped>\n",
       "    .dataframe tbody tr th:only-of-type {\n",
       "        vertical-align: middle;\n",
       "    }\n",
       "\n",
       "    .dataframe tbody tr th {\n",
       "        vertical-align: top;\n",
       "    }\n",
       "\n",
       "    .dataframe thead th {\n",
       "        text-align: right;\n",
       "    }\n",
       "</style>\n",
       "<table border=\"1\" class=\"dataframe\">\n",
       "  <thead>\n",
       "    <tr style=\"text-align: right;\">\n",
       "      <th></th>\n",
       "      <th>category</th>\n",
       "      <th>text</th>\n",
       "      <th>category_id</th>\n",
       "    </tr>\n",
       "  </thead>\n",
       "  <tbody>\n",
       "    <tr>\n",
       "      <th>0</th>\n",
       "      <td>U.S. NEWS</td>\n",
       "      <td>million american roll sleeve omicrontargeted ...</td>\n",
       "      <td>0</td>\n",
       "    </tr>\n",
       "    <tr>\n",
       "      <th>1</th>\n",
       "      <td>U.S. NEWS</td>\n",
       "      <td>american airline flyer charged banned life pun...</td>\n",
       "      <td>0</td>\n",
       "    </tr>\n",
       "    <tr>\n",
       "      <th>2</th>\n",
       "      <td>COMEDY</td>\n",
       "      <td>funniest tweet cat dog week sept  dog dont un...</td>\n",
       "      <td>1</td>\n",
       "    </tr>\n",
       "    <tr>\n",
       "      <th>3</th>\n",
       "      <td>PARENTING</td>\n",
       "      <td>funniest tweet parent week sept  accidentally ...</td>\n",
       "      <td>2</td>\n",
       "    </tr>\n",
       "    <tr>\n",
       "      <th>4</th>\n",
       "      <td>U.S. NEWS</td>\n",
       "      <td>woman called cop black birdwatcher loses lawsu...</td>\n",
       "      <td>0</td>\n",
       "    </tr>\n",
       "  </tbody>\n",
       "</table>\n",
       "</div>"
      ],
      "text/plain": [
       "    category                                               text  category_id\n",
       "0  U.S. NEWS   million american roll sleeve omicrontargeted ...            0\n",
       "1  U.S. NEWS  american airline flyer charged banned life pun...            0\n",
       "2     COMEDY   funniest tweet cat dog week sept  dog dont un...            1\n",
       "3  PARENTING  funniest tweet parent week sept  accidentally ...            2\n",
       "4  U.S. NEWS  woman called cop black birdwatcher loses lawsu...            0"
      ]
     },
     "execution_count": 7,
     "metadata": {},
     "output_type": "execute_result"
    }
   ],
   "source": [
    "# here v represents each category as an integer in the category_id column.\n",
    "from io import StringIO\n",
    "col = ['category', 'text']\n",
    "# news_df = news_df.reindex(columns=col)\n",
    "\n",
    "\n",
    "news_df = news_df[col]\n",
    "news_df = news_df[pd.notnull(news_df['text'])]\n",
    "\n",
    "news_df.columns = ['category', 'text']\n",
    "news_df['category_id'] = news_df['category'].factorize()[0]\n",
    "category_id_df = news_df[['category', 'category_id']\n",
    "                         ].drop_duplicates().sort_values('category_id')\n",
    "category_to_id = dict(category_id_df.values)\n",
    "id_to_category = dict(category_id_df[['category_id', 'category']].values)\n",
    "# print(category_to_id)\n",
    "news_df.head()"
   ]
  },
  {
   "cell_type": "code",
   "execution_count": 8,
   "metadata": {},
   "outputs": [
    {
     "data": {
      "text/html": [
       "<div>\n",
       "<style scoped>\n",
       "    .dataframe tbody tr th:only-of-type {\n",
       "        vertical-align: middle;\n",
       "    }\n",
       "\n",
       "    .dataframe tbody tr th {\n",
       "        vertical-align: top;\n",
       "    }\n",
       "\n",
       "    .dataframe thead th {\n",
       "        text-align: right;\n",
       "    }\n",
       "</style>\n",
       "<table border=\"1\" class=\"dataframe\">\n",
       "  <thead>\n",
       "    <tr style=\"text-align: right;\">\n",
       "      <th></th>\n",
       "      <th>text</th>\n",
       "      <th>category_id</th>\n",
       "    </tr>\n",
       "    <tr>\n",
       "      <th>category</th>\n",
       "      <th></th>\n",
       "      <th></th>\n",
       "    </tr>\n",
       "  </thead>\n",
       "  <tbody>\n",
       "    <tr>\n",
       "      <th>U.S. NEWS</th>\n",
       "      <td>million american roll sleeve omicrontargeted ...</td>\n",
       "      <td>0</td>\n",
       "    </tr>\n",
       "    <tr>\n",
       "      <th>U.S. NEWS</th>\n",
       "      <td>american airline flyer charged banned life pun...</td>\n",
       "      <td>0</td>\n",
       "    </tr>\n",
       "    <tr>\n",
       "      <th>COMEDY</th>\n",
       "      <td>funniest tweet cat dog week sept  dog dont un...</td>\n",
       "      <td>1</td>\n",
       "    </tr>\n",
       "    <tr>\n",
       "      <th>PARENTING</th>\n",
       "      <td>funniest tweet parent week sept  accidentally ...</td>\n",
       "      <td>2</td>\n",
       "    </tr>\n",
       "    <tr>\n",
       "      <th>U.S. NEWS</th>\n",
       "      <td>woman called cop black birdwatcher loses lawsu...</td>\n",
       "      <td>0</td>\n",
       "    </tr>\n",
       "    <tr>\n",
       "      <th>...</th>\n",
       "      <td>...</td>\n",
       "      <td>...</td>\n",
       "    </tr>\n",
       "    <tr>\n",
       "      <th>TECH</th>\n",
       "      <td>good game possible dont think people play zyng...</td>\n",
       "      <td>5</td>\n",
       "    </tr>\n",
       "    <tr>\n",
       "      <th>TECH</th>\n",
       "      <td>google+ open teen safeguard part teen experien...</td>\n",
       "      <td>5</td>\n",
       "    </tr>\n",
       "    <tr>\n",
       "      <th>TECH</th>\n",
       "      <td>web war web war threaten rage considerable tim...</td>\n",
       "      <td>5</td>\n",
       "    </tr>\n",
       "    <tr>\n",
       "      <th>TECH</th>\n",
       "      <td>watch top  youtube video week youre looking se...</td>\n",
       "      <td>5</td>\n",
       "    </tr>\n",
       "    <tr>\n",
       "      <th>TECH</th>\n",
       "      <td>rim ceo thorsten heins significant plan blackb...</td>\n",
       "      <td>5</td>\n",
       "    </tr>\n",
       "  </tbody>\n",
       "</table>\n",
       "<p>151979 rows × 2 columns</p>\n",
       "</div>"
      ],
      "text/plain": [
       "                                                        text  category_id\n",
       "category                                                                 \n",
       "U.S. NEWS   million american roll sleeve omicrontargeted ...            0\n",
       "U.S. NEWS  american airline flyer charged banned life pun...            0\n",
       "COMEDY      funniest tweet cat dog week sept  dog dont un...            1\n",
       "PARENTING  funniest tweet parent week sept  accidentally ...            2\n",
       "U.S. NEWS  woman called cop black birdwatcher loses lawsu...            0\n",
       "...                                                      ...          ...\n",
       "TECH       good game possible dont think people play zyng...            5\n",
       "TECH       google+ open teen safeguard part teen experien...            5\n",
       "TECH       web war web war threaten rage considerable tim...            5\n",
       "TECH       watch top  youtube video week youre looking se...            5\n",
       "TECH       rim ceo thorsten heins significant plan blackb...            5\n",
       "\n",
       "[151979 rows x 2 columns]"
      ]
     },
     "execution_count": 8,
     "metadata": {},
     "output_type": "execute_result"
    }
   ],
   "source": [
    "# set category column as an index\n",
    "news_df = news_df.set_index(\"category\")\n",
    "news_df"
   ]
  },
  {
   "cell_type": "code",
   "execution_count": 9,
   "metadata": {},
   "outputs": [],
   "source": [
    "# drop some categories\n",
    "news_df = news_df.drop(['IMPACT', 'QUEER VOICES', 'LATINO VOICES', 'BLACK VOICES', 'FIFTY',\n",
    "                        'WEIRD NEWS', 'ENTERTAINMENT', 'GREEN', 'GOOD NEWS', 'COMEDY', 'PARENTS', 'WOMEN',\n",
    "                        'POLITICS', 'MEDIA'], axis=0)\n",
    "news_df = news_df.replace(\"\", np.NaN)\n",
    "# drop rows with value as NaN\n",
    "news_df.dropna(axis=0, inplace=True)"
   ]
  },
  {
   "cell_type": "code",
   "execution_count": 10,
   "metadata": {},
   "outputs": [
    {
     "data": {
      "text/html": [
       "<div>\n",
       "<style scoped>\n",
       "    .dataframe tbody tr th:only-of-type {\n",
       "        vertical-align: middle;\n",
       "    }\n",
       "\n",
       "    .dataframe tbody tr th {\n",
       "        vertical-align: top;\n",
       "    }\n",
       "\n",
       "    .dataframe thead th {\n",
       "        text-align: right;\n",
       "    }\n",
       "</style>\n",
       "<table border=\"1\" class=\"dataframe\">\n",
       "  <thead>\n",
       "    <tr style=\"text-align: right;\">\n",
       "      <th></th>\n",
       "      <th>category</th>\n",
       "      <th>text</th>\n",
       "      <th>category_id</th>\n",
       "    </tr>\n",
       "  </thead>\n",
       "  <tbody>\n",
       "    <tr>\n",
       "      <th>0</th>\n",
       "      <td>U.S. NEWS</td>\n",
       "      <td>million american roll sleeve omicrontargeted ...</td>\n",
       "      <td>0</td>\n",
       "    </tr>\n",
       "    <tr>\n",
       "      <th>1</th>\n",
       "      <td>U.S. NEWS</td>\n",
       "      <td>american airline flyer charged banned life pun...</td>\n",
       "      <td>0</td>\n",
       "    </tr>\n",
       "    <tr>\n",
       "      <th>2</th>\n",
       "      <td>PARENTING</td>\n",
       "      <td>funniest tweet parent week sept  accidentally ...</td>\n",
       "      <td>2</td>\n",
       "    </tr>\n",
       "    <tr>\n",
       "      <th>3</th>\n",
       "      <td>U.S. NEWS</td>\n",
       "      <td>woman called cop black birdwatcher loses lawsu...</td>\n",
       "      <td>0</td>\n",
       "    </tr>\n",
       "    <tr>\n",
       "      <th>4</th>\n",
       "      <td>U.S. NEWS</td>\n",
       "      <td>reporter get adorable surprise boyfriend live ...</td>\n",
       "      <td>0</td>\n",
       "    </tr>\n",
       "    <tr>\n",
       "      <th>...</th>\n",
       "      <td>...</td>\n",
       "      <td>...</td>\n",
       "      <td>...</td>\n",
       "    </tr>\n",
       "    <tr>\n",
       "      <th>82293</th>\n",
       "      <td>TECH</td>\n",
       "      <td>good game possible dont think people play zyng...</td>\n",
       "      <td>5</td>\n",
       "    </tr>\n",
       "    <tr>\n",
       "      <th>82294</th>\n",
       "      <td>TECH</td>\n",
       "      <td>google+ open teen safeguard part teen experien...</td>\n",
       "      <td>5</td>\n",
       "    </tr>\n",
       "    <tr>\n",
       "      <th>82295</th>\n",
       "      <td>TECH</td>\n",
       "      <td>web war web war threaten rage considerable tim...</td>\n",
       "      <td>5</td>\n",
       "    </tr>\n",
       "    <tr>\n",
       "      <th>82296</th>\n",
       "      <td>TECH</td>\n",
       "      <td>watch top  youtube video week youre looking se...</td>\n",
       "      <td>5</td>\n",
       "    </tr>\n",
       "    <tr>\n",
       "      <th>82297</th>\n",
       "      <td>TECH</td>\n",
       "      <td>rim ceo thorsten heins significant plan blackb...</td>\n",
       "      <td>5</td>\n",
       "    </tr>\n",
       "  </tbody>\n",
       "</table>\n",
       "<p>82298 rows × 3 columns</p>\n",
       "</div>"
      ],
      "text/plain": [
       "        category                                               text  \\\n",
       "0      U.S. NEWS   million american roll sleeve omicrontargeted ...   \n",
       "1      U.S. NEWS  american airline flyer charged banned life pun...   \n",
       "2      PARENTING  funniest tweet parent week sept  accidentally ...   \n",
       "3      U.S. NEWS  woman called cop black birdwatcher loses lawsu...   \n",
       "4      U.S. NEWS  reporter get adorable surprise boyfriend live ...   \n",
       "...          ...                                                ...   \n",
       "82293       TECH  good game possible dont think people play zyng...   \n",
       "82294       TECH  google+ open teen safeguard part teen experien...   \n",
       "82295       TECH  web war web war threaten rage considerable tim...   \n",
       "82296       TECH  watch top  youtube video week youre looking se...   \n",
       "82297       TECH  rim ceo thorsten heins significant plan blackb...   \n",
       "\n",
       "       category_id  \n",
       "0                0  \n",
       "1                0  \n",
       "2                2  \n",
       "3                0  \n",
       "4                0  \n",
       "...            ...  \n",
       "82293            5  \n",
       "82294            5  \n",
       "82295            5  \n",
       "82296            5  \n",
       "82297            5  \n",
       "\n",
       "[82298 rows x 3 columns]"
      ]
     },
     "execution_count": 10,
     "metadata": {},
     "output_type": "execute_result"
    }
   ],
   "source": [
    "# reset the index,\n",
    "news_df = news_df.reset_index(\"category\")\n",
    "news_df"
   ]
  },
  {
   "cell_type": "code",
   "execution_count": 11,
   "metadata": {},
   "outputs": [
    {
     "name": "stdout",
     "output_type": "stream",
     "text": [
      "{'U.S. NEWS': 0, 'PARENTING': 2, 'WORLD': 3, 'CULTURE & ARTS': 4, 'TECH': 5, 'SPORTS': 6, 'ENVIRONMENT': 10, 'EDUCATION': 11, 'SCIENCE': 12, 'WELLNESS': 13, 'BUSINESS': 14, 'CRIME': 15, 'STYLE & BEAUTY': 16, 'FOOD & DRINK': 17, 'HOME & LIVING': 20, 'TRAVEL': 23, 'MONEY': 24, 'RELIGION': 25, 'WEDDINGS': 28, 'ARTS & CULTURE': 30, 'STYLE': 31, 'TASTE': 33, 'HEALTH': 34, 'DIVORCE': 37}\n"
     ]
    }
   ],
   "source": [
    "category_id_df = news_df[['category', 'category_id']\n",
    "                         ].sort_values('category_id')\n",
    "category_to_id = dict(category_id_df.values)\n",
    "print(category_to_id)"
   ]
  },
  {
   "cell_type": "code",
   "execution_count": 12,
   "metadata": {},
   "outputs": [
    {
     "data": {
      "image/png": "[encoded data removed]",
      "text/plain": [
       "<Figure size 576x432 with 1 Axes>"
      ]
     },
     "metadata": {
      "needs_background": "light"
     },
     "output_type": "display_data"
    }
   ],
   "source": [
    "# ploting each category and corresponding no of samples - bar chart\n",
    "import matplotlib.pyplot as plt\n",
    "fig = plt.figure(figsize=(8, 6))\n",
    "news_df.groupby('category').text.count().plot.bar(ylim=0)\n",
    "plt.show()"
   ]
  },
  {
   "cell_type": "code",
   "execution_count": 13,
   "metadata": {
    "scrolled": true
   },
   "outputs": [
    {
     "data": {
      "text/plain": [
       "WELLNESS          12942\n",
       "TRAVEL             7943\n",
       "STYLE & BEAUTY     7158\n",
       "PARENTING          6519\n",
       "WORLD              6082\n",
       "HEALTH             4941\n",
       "FOOD & DRINK       4485\n",
       "BUSINESS           4328\n",
       "HOME & LIVING      3422\n",
       "SPORTS             3351\n",
       "ARTS & CULTURE     2117\n",
       "CRIME              2075\n",
       "RELIGION           1757\n",
       "EDUCATION          1739\n",
       "TASTE              1735\n",
       "WEDDINGS           1704\n",
       "DIVORCE            1695\n",
       "TECH               1593\n",
       "MONEY              1537\n",
       "SCIENCE            1394\n",
       "STYLE              1221\n",
       "U.S. NEWS          1091\n",
       "ENVIRONMENT         778\n",
       "CULTURE & ARTS      691\n",
       "Name: category, dtype: int64"
      ]
     },
     "execution_count": 13,
     "metadata": {},
     "output_type": "execute_result"
    }
   ],
   "source": [
    "# to get the info about our preprocessed news dataframe\n",
    "news_df.category.value_counts()"
   ]
  },
  {
   "attachments": {},
   "cell_type": "markdown",
   "metadata": {},
   "source": [
    "**Extracting feaure vectors**"
   ]
  },
  {
   "cell_type": "code",
   "execution_count": 14,
   "metadata": {},
   "outputs": [
    {
     "data": {
      "text/plain": [
       "(82298, 46887)"
      ]
     },
     "execution_count": 14,
     "metadata": {},
     "output_type": "execute_result"
    }
   ],
   "source": [
    "from sklearn.feature_extraction.text import TfidfVectorizer\n",
    "d = news_df[\"text\"].__iter__()\n",
    "tfidf = TfidfVectorizer(sublinear_tf=True, min_df=5,\n",
    "                        norm='l2', encoding='latin-1', ngram_range=(1, 2))\n",
    "features = tfidf.fit_transform(d)\n",
    "labels = news_df.category_id\n",
    "features.shape"
   ]
  },
  {
   "attachments": {},
   "cell_type": "markdown",
   "metadata": {},
   "source": [
    "**Unigrams and Bigrams**"
   ]
  },
  {
   "cell_type": "code",
   "execution_count": 15,
   "metadata": {},
   "outputs": [
    {
     "name": "stderr",
     "output_type": "stream",
     "text": [
      "C:\\Users\\hario\\anaconda3\\lib\\site-packages\\sklearn\\utils\\deprecation.py:87: FutureWarning: Function get_feature_names is deprecated; get_feature_names is deprecated in 1.0 and will be removed in 1.2. Please use get_feature_names_out instead.\n",
      "  warnings.warn(msg, category=FutureWarning)\n",
      "C:\\Users\\hario\\anaconda3\\lib\\site-packages\\sklearn\\utils\\deprecation.py:87: FutureWarning: Function get_feature_names is deprecated; get_feature_names is deprecated in 1.0 and will be removed in 1.2. Please use get_feature_names_out instead.\n",
      "  warnings.warn(msg, category=FutureWarning)\n"
     ]
    },
    {
     "name": "stdout",
     "output_type": "stream",
     "text": [
      "ARTS & CULTURE\n",
      "correlated unigrams:\n",
      ". art\n",
      ". artist\n",
      "correlated bigrams:\n",
      ". handmaid tale\n",
      ". first nighter\n",
      "BUSINESS\n",
      "correlated unigrams:\n",
      ". company\n",
      ". business\n",
      "correlated bigrams:\n",
      ". woman business\n",
      ". wall st\n"
     ]
    },
    {
     "name": "stderr",
     "output_type": "stream",
     "text": [
      "C:\\Users\\hario\\anaconda3\\lib\\site-packages\\sklearn\\utils\\deprecation.py:87: FutureWarning: Function get_feature_names is deprecated; get_feature_names is deprecated in 1.0 and will be removed in 1.2. Please use get_feature_names_out instead.\n",
      "  warnings.warn(msg, category=FutureWarning)\n",
      "C:\\Users\\hario\\anaconda3\\lib\\site-packages\\sklearn\\utils\\deprecation.py:87: FutureWarning: Function get_feature_names is deprecated; get_feature_names is deprecated in 1.0 and will be removed in 1.2. Please use get_feature_names_out instead.\n",
      "  warnings.warn(msg, category=FutureWarning)\n"
     ]
    },
    {
     "name": "stdout",
     "output_type": "stream",
     "text": [
      "CRIME\n",
      "correlated unigrams:\n",
      ". cop\n",
      ". police\n",
      "correlated bigrams:\n",
      ". police said\n",
      ". police say\n",
      "CULTURE & ARTS\n",
      "correlated unigrams:\n",
      ". canvas\n",
      ". imageblog\n",
      "correlated bigrams:\n",
      ". acrylic canvas\n",
      ". oil canvas\n"
     ]
    },
    {
     "name": "stderr",
     "output_type": "stream",
     "text": [
      "C:\\Users\\hario\\anaconda3\\lib\\site-packages\\sklearn\\utils\\deprecation.py:87: FutureWarning: Function get_feature_names is deprecated; get_feature_names is deprecated in 1.0 and will be removed in 1.2. Please use get_feature_names_out instead.\n",
      "  warnings.warn(msg, category=FutureWarning)\n",
      "C:\\Users\\hario\\anaconda3\\lib\\site-packages\\sklearn\\utils\\deprecation.py:87: FutureWarning: Function get_feature_names is deprecated; get_feature_names is deprecated in 1.0 and will be removed in 1.2. Please use get_feature_names_out instead.\n",
      "  warnings.warn(msg, category=FutureWarning)\n"
     ]
    },
    {
     "name": "stdout",
     "output_type": "stream",
     "text": [
      "DIVORCE\n",
      "correlated unigrams:\n",
      ". divorced\n",
      ". divorce\n",
      "correlated bigrams:\n",
      ". child divorce\n",
      ". divorce divorce\n",
      "EDUCATION\n",
      "correlated unigrams:\n",
      ". education\n",
      ". student\n",
      "correlated bigrams:\n",
      ". charter school\n",
      ". higher education\n"
     ]
    },
    {
     "name": "stderr",
     "output_type": "stream",
     "text": [
      "C:\\Users\\hario\\anaconda3\\lib\\site-packages\\sklearn\\utils\\deprecation.py:87: FutureWarning: Function get_feature_names is deprecated; get_feature_names is deprecated in 1.0 and will be removed in 1.2. Please use get_feature_names_out instead.\n",
      "  warnings.warn(msg, category=FutureWarning)\n",
      "C:\\Users\\hario\\anaconda3\\lib\\site-packages\\sklearn\\utils\\deprecation.py:87: FutureWarning: Function get_feature_names is deprecated; get_feature_names is deprecated in 1.0 and will be removed in 1.2. Please use get_feature_names_out instead.\n",
      "  warnings.warn(msg, category=FutureWarning)\n"
     ]
    },
    {
     "name": "stdout",
     "output_type": "stream",
     "text": [
      "ENVIRONMENT\n",
      "correlated unigrams:\n",
      ". keystone\n",
      ". climate\n",
      "correlated bigrams:\n",
      ". keystone xl\n",
      ". climate change\n",
      "FOOD & DRINK\n",
      "correlated unigrams:\n",
      ". cocktail\n",
      ". recipe\n",
      "correlated bigrams:\n",
      ". recipe make\n",
      ". taste test\n"
     ]
    },
    {
     "name": "stderr",
     "output_type": "stream",
     "text": [
      "C:\\Users\\hario\\anaconda3\\lib\\site-packages\\sklearn\\utils\\deprecation.py:87: FutureWarning: Function get_feature_names is deprecated; get_feature_names is deprecated in 1.0 and will be removed in 1.2. Please use get_feature_names_out instead.\n",
      "  warnings.warn(msg, category=FutureWarning)\n",
      "C:\\Users\\hario\\anaconda3\\lib\\site-packages\\sklearn\\utils\\deprecation.py:87: FutureWarning: Function get_feature_names is deprecated; get_feature_names is deprecated in 1.0 and will be removed in 1.2. Please use get_feature_names_out instead.\n",
      "  warnings.warn(msg, category=FutureWarning)\n"
     ]
    },
    {
     "name": "stdout",
     "output_type": "stream",
     "text": [
      "HEALTH\n",
      "correlated unigrams:\n",
      ". gps\n",
      ". zika\n",
      "correlated bigrams:\n",
      ". appeared quietrevcom\n",
      ". gps guide\n",
      "HOME & LIVING\n",
      "correlated unigrams:\n",
      ". craft\n",
      ". home\n",
      "correlated bigrams:\n",
      ". home twitter\n",
      ". craft day\n"
     ]
    },
    {
     "name": "stderr",
     "output_type": "stream",
     "text": [
      "C:\\Users\\hario\\anaconda3\\lib\\site-packages\\sklearn\\utils\\deprecation.py:87: FutureWarning: Function get_feature_names is deprecated; get_feature_names is deprecated in 1.0 and will be removed in 1.2. Please use get_feature_names_out instead.\n",
      "  warnings.warn(msg, category=FutureWarning)\n",
      "C:\\Users\\hario\\anaconda3\\lib\\site-packages\\sklearn\\utils\\deprecation.py:87: FutureWarning: Function get_feature_names is deprecated; get_feature_names is deprecated in 1.0 and will be removed in 1.2. Please use get_feature_names_out instead.\n",
      "  warnings.warn(msg, category=FutureWarning)\n"
     ]
    },
    {
     "name": "stdout",
     "output_type": "stream",
     "text": [
      "MONEY\n",
      "correlated unigrams:\n",
      ". tax\n",
      ". credit\n",
      "correlated bigrams:\n",
      ". credit card\n",
      ". credit score\n",
      "PARENTING\n",
      "correlated unigrams:\n",
      ". child\n",
      ". parent\n",
      "correlated bigrams:\n",
      ". special need\n",
      ". baby name\n"
     ]
    },
    {
     "name": "stderr",
     "output_type": "stream",
     "text": [
      "C:\\Users\\hario\\anaconda3\\lib\\site-packages\\sklearn\\utils\\deprecation.py:87: FutureWarning: Function get_feature_names is deprecated; get_feature_names is deprecated in 1.0 and will be removed in 1.2. Please use get_feature_names_out instead.\n",
      "  warnings.warn(msg, category=FutureWarning)\n",
      "C:\\Users\\hario\\anaconda3\\lib\\site-packages\\sklearn\\utils\\deprecation.py:87: FutureWarning: Function get_feature_names is deprecated; get_feature_names is deprecated in 1.0 and will be removed in 1.2. Please use get_feature_names_out instead.\n",
      "  warnings.warn(msg, category=FutureWarning)\n"
     ]
    },
    {
     "name": "stdout",
     "output_type": "stream",
     "text": [
      "RELIGION\n",
      "correlated unigrams:\n",
      ". christian\n",
      ". pope\n",
      "correlated bigrams:\n",
      ". maintaining personal\n",
      ". daily meditation\n"
     ]
    },
    {
     "name": "stderr",
     "output_type": "stream",
     "text": [
      "C:\\Users\\hario\\anaconda3\\lib\\site-packages\\sklearn\\utils\\deprecation.py:87: FutureWarning: Function get_feature_names is deprecated; get_feature_names is deprecated in 1.0 and will be removed in 1.2. Please use get_feature_names_out instead.\n",
      "  warnings.warn(msg, category=FutureWarning)\n",
      "C:\\Users\\hario\\anaconda3\\lib\\site-packages\\sklearn\\utils\\deprecation.py:87: FutureWarning: Function get_feature_names is deprecated; get_feature_names is deprecated in 1.0 and will be removed in 1.2. Please use get_feature_names_out instead.\n",
      "  warnings.warn(msg, category=FutureWarning)\n"
     ]
    },
    {
     "name": "stdout",
     "output_type": "stream",
     "text": [
      "SCIENCE\n",
      "correlated unigrams:\n",
      ". scientist\n",
      ". nasa\n",
      "correlated bigrams:\n",
      ". scientist say\n",
      ". solar system\n",
      "SPORTS\n",
      "correlated unigrams:\n",
      ". player\n",
      ". nfl\n",
      "correlated bigrams:\n",
      ". tom brady\n",
      ". lebron james\n",
      "STYLE\n",
      "correlated unigrams:\n",
      ". kendall\n",
      ". jenner\n",
      "correlated bigrams:\n",
      ". gigi hadid\n",
      ". kendall jenner\n"
     ]
    },
    {
     "name": "stderr",
     "output_type": "stream",
     "text": [
      "C:\\Users\\hario\\anaconda3\\lib\\site-packages\\sklearn\\utils\\deprecation.py:87: FutureWarning: Function get_feature_names is deprecated; get_feature_names is deprecated in 1.0 and will be removed in 1.2. Please use get_feature_names_out instead.\n",
      "  warnings.warn(msg, category=FutureWarning)\n",
      "C:\\Users\\hario\\anaconda3\\lib\\site-packages\\sklearn\\utils\\deprecation.py:87: FutureWarning: Function get_feature_names is deprecated; get_feature_names is deprecated in 1.0 and will be removed in 1.2. Please use get_feature_names_out instead.\n",
      "  warnings.warn(msg, category=FutureWarning)\n"
     ]
    },
    {
     "name": "stdout",
     "output_type": "stream",
     "text": [
      "STYLE & BEAUTY\n",
      "correlated unigrams:\n",
      ". style\n",
      ". fashion\n",
      "correlated bigrams:\n",
      ". huffpost style\n",
      ". want sure\n",
      "TASTE\n",
      "correlated unigrams:\n",
      ". delicious\n",
      ". recipe\n",
      "correlated bigrams:\n",
      ". meal prep\n",
      ". cooking cuff\n"
     ]
    },
    {
     "name": "stderr",
     "output_type": "stream",
     "text": [
      "C:\\Users\\hario\\anaconda3\\lib\\site-packages\\sklearn\\utils\\deprecation.py:87: FutureWarning: Function get_feature_names is deprecated; get_feature_names is deprecated in 1.0 and will be removed in 1.2. Please use get_feature_names_out instead.\n",
      "  warnings.warn(msg, category=FutureWarning)\n",
      "C:\\Users\\hario\\anaconda3\\lib\\site-packages\\sklearn\\utils\\deprecation.py:87: FutureWarning: Function get_feature_names is deprecated; get_feature_names is deprecated in 1.0 and will be removed in 1.2. Please use get_feature_names_out instead.\n",
      "  warnings.warn(msg, category=FutureWarning)\n"
     ]
    },
    {
     "name": "stdout",
     "output_type": "stream",
     "text": [
      "TECH\n",
      "correlated unigrams:\n",
      ". google\n",
      ". apple\n",
      "correlated bigrams:\n",
      ". apple rumor\n",
      ". video week\n",
      "TRAVEL\n",
      "correlated unigrams:\n",
      ". hotel\n",
      ". travel\n",
      "correlated bigrams:\n",
      ". national park\n",
      ". road trip\n",
      "U.S. NEWS\n",
      "correlated unigrams:\n",
      ". uvalde\n",
      ". covid\n",
      "correlated bigrams:\n",
      ". santa anita\n",
      ". border patrol\n"
     ]
    },
    {
     "name": "stderr",
     "output_type": "stream",
     "text": [
      "C:\\Users\\hario\\anaconda3\\lib\\site-packages\\sklearn\\utils\\deprecation.py:87: FutureWarning: Function get_feature_names is deprecated; get_feature_names is deprecated in 1.0 and will be removed in 1.2. Please use get_feature_names_out instead.\n",
      "  warnings.warn(msg, category=FutureWarning)\n",
      "C:\\Users\\hario\\anaconda3\\lib\\site-packages\\sklearn\\utils\\deprecation.py:87: FutureWarning: Function get_feature_names is deprecated; get_feature_names is deprecated in 1.0 and will be removed in 1.2. Please use get_feature_names_out instead.\n",
      "  warnings.warn(msg, category=FutureWarning)\n"
     ]
    },
    {
     "name": "stdout",
     "output_type": "stream",
     "text": [
      "WEDDINGS\n",
      "correlated unigrams:\n",
      ". bride\n",
      ". wedding\n",
      "correlated bigrams:\n",
      ". wedding planning\n",
      ". wedding day\n",
      "WELLNESS\n",
      "correlated unigrams:\n",
      ". cancer\n",
      ". health\n",
      "correlated bigrams:\n",
      ". breast cancer\n",
      ". health care\n"
     ]
    },
    {
     "name": "stderr",
     "output_type": "stream",
     "text": [
      "C:\\Users\\hario\\anaconda3\\lib\\site-packages\\sklearn\\utils\\deprecation.py:87: FutureWarning: Function get_feature_names is deprecated; get_feature_names is deprecated in 1.0 and will be removed in 1.2. Please use get_feature_names_out instead.\n",
      "  warnings.warn(msg, category=FutureWarning)\n",
      "C:\\Users\\hario\\anaconda3\\lib\\site-packages\\sklearn\\utils\\deprecation.py:87: FutureWarning: Function get_feature_names is deprecated; get_feature_names is deprecated in 1.0 and will be removed in 1.2. Please use get_feature_names_out instead.\n",
      "  warnings.warn(msg, category=FutureWarning)\n"
     ]
    },
    {
     "name": "stdout",
     "output_type": "stream",
     "text": [
      "WORLD\n",
      "correlated unigrams:\n",
      ". syria\n",
      ". korea\n",
      "correlated bigrams:\n",
      ". prime minister\n",
      ". north korea\n"
     ]
    }
   ],
   "source": [
    "from sklearn.feature_selection import chi2\n",
    "N = 2\n",
    "for category, category_id in sorted(category_to_id.items()):\n",
    "    features_chi2 = chi2(features, labels == category_id)\n",
    "    indices = np.argsort(features_chi2[0])\n",
    "    feature_names = np.array(tfidf.get_feature_names())[indices]\n",
    "    unigrams = [v for v in feature_names if len(v.split(' ')) == 1]\n",
    "    bigrams = [v for v in feature_names if len(v.split(' ')) == 2]\n",
    "\n",
    "    print(f\"{category}\")\n",
    "    nwline = '\\n. '\n",
    "    print(f\"correlated unigrams:{nwline}{nwline.join(unigrams[-N:])}\")\n",
    "    print(f\"correlated bigrams:{nwline}{nwline.join(bigrams[-N:])}\")"
   ]
  },
  {
   "cell_type": "code",
   "execution_count": 16,
   "metadata": {},
   "outputs": [],
   "source": [
    "# train the classifier\n",
    "# Naive Bayes Classifier\n",
    "from sklearn.model_selection import train_test_split\n",
    "from sklearn.feature_extraction.text import CountVectorizer\n",
    "from sklearn.feature_extraction.text import TfidfTransformer\n",
    "from sklearn.naive_bayes import MultinomialNB\n",
    "\n",
    "X_train, X_test, y_train, y_test = train_test_split(news_df['text'],\n",
    "                                                    news_df['category'], random_state=0)\n",
    "count_vect = CountVectorizer()\n",
    "X_train_counts = count_vect.fit_transform(X_train)\n",
    "tfidf_transformer = TfidfTransformer()\n",
    "X_train_tfidf = tfidf_transformer.fit_transform(X_train_counts)\n",
    "clf = MultinomialNB().fit(X_train_tfidf, y_train)\n",
    "# print(clf)"
   ]
  },
  {
   "attachments": {},
   "cell_type": "markdown",
   "metadata": {},
   "source": [
    "**Make Predictions**"
   ]
  },
  {
   "cell_type": "code",
   "execution_count": 17,
   "metadata": {},
   "outputs": [
    {
     "name": "stdout",
     "output_type": "stream",
     "text": [
      "['STYLE & BEAUTY']\n"
     ]
    }
   ],
   "source": [
    "print(clf.predict(count_vect.transform([\n",
    "    \"Instagram updating content-banning policies on app\"\n",
    "])))"
   ]
  },
  {
   "cell_type": "code",
   "execution_count": 18,
   "metadata": {},
   "outputs": [
    {
     "name": "stdout",
     "output_type": "stream",
     "text": [
      "['WELLNESS']\n"
     ]
    }
   ],
   "source": [
    "print(clf.predict(count_vect.transform([\n",
    "    \"Climate change poses mental health risks to children and teens\"\n",
    "])))"
   ]
  },
  {
   "cell_type": "code",
   "execution_count": 19,
   "metadata": {},
   "outputs": [
    {
     "name": "stdout",
     "output_type": "stream",
     "text": [
      "['SCIENCE']\n"
     ]
    }
   ],
   "source": [
    "print(clf.predict(count_vect.transform([\n",
    "    \"NASA scientist defends use of NUCLEAR weapons on asteroid\"\n",
    "])))"
   ]
  },
  {
   "cell_type": "code",
   "execution_count": 20,
   "metadata": {},
   "outputs": [
    {
     "name": "stdout",
     "output_type": "stream",
     "text": [
      "['TRAVEL']\n"
     ]
    }
   ],
   "source": [
    "print(clf.predict(count_vect.transform([\n",
    "    \"\"\"A ‘Haunted’ Hotel in Colorado Is Reopening With an Even Creepier Vibe  \n",
    "    \"\"\"\n",
    "]\n",
    ")))"
   ]
  },
  {
   "cell_type": "code",
   "execution_count": 21,
   "metadata": {},
   "outputs": [
    {
     "name": "stdout",
     "output_type": "stream",
     "text": [
      "['SPORTS']\n"
     ]
    }
   ],
   "source": [
    "print(clf.predict(count_vect.transform([\n",
    "\n",
    "    \"Champions League Final: Gary Lineker backs Liverpool to beat Tottenham in Madrid\"\n",
    "\n",
    "])))"
   ]
  },
  {
   "attachments": {},
   "cell_type": "markdown",
   "metadata": {},
   "source": [
    "**Build models**"
   ]
  },
  {
   "cell_type": "code",
   "execution_count": 22,
   "metadata": {},
   "outputs": [],
   "source": [
    "# using LinearSVC\n",
    "from sklearn.svm import LinearSVC\n",
    "model = LinearSVC()\n",
    "X_train, X_test, y_train, y_test, indices_train, indices_test = train_test_split(\n",
    "    features, labels, news_df.index, test_size=0.33, random_state=0\n",
    ")\n",
    "\n",
    "model.fit(X_train, y_train)\n",
    "y_pred = model.predict(X_test)"
   ]
  },
  {
   "cell_type": "code",
   "execution_count": 23,
   "metadata": {},
   "outputs": [
    {
     "name": "stdout",
     "output_type": "stream",
     "text": [
      "                precision    recall  f1-score   support\n",
      "\n",
      "     U.S. NEWS       0.43      0.23      0.30       350\n",
      "     PARENTING       0.68      0.74      0.71      2145\n",
      "         WORLD       0.77      0.80      0.78      2000\n",
      "CULTURE & ARTS       0.46      0.14      0.22       229\n",
      "          TECH       0.66      0.50      0.57       557\n",
      "        SPORTS       0.76      0.82      0.79      1069\n",
      "   ENVIRONMENT       0.54      0.37      0.44       251\n",
      "     EDUCATION       0.62      0.60      0.61       529\n",
      "       SCIENCE       0.62      0.50      0.56       444\n",
      "      WELLNESS       0.62      0.76      0.68      4355\n",
      "      BUSINESS       0.57      0.58      0.58      1405\n",
      "         CRIME       0.68      0.68      0.68       674\n",
      "STYLE & BEAUTY       0.79      0.84      0.82      2417\n",
      "  FOOD & DRINK       0.62      0.69      0.65      1472\n",
      " HOME & LIVING       0.79      0.77      0.78      1126\n",
      "        TRAVEL       0.77      0.83      0.80      2722\n",
      "         MONEY       0.53      0.44      0.48       493\n",
      "      RELIGION       0.73      0.58      0.64       570\n",
      "      WEDDINGS       0.80      0.74      0.77       554\n",
      "ARTS & CULTURE       0.57      0.56      0.57       721\n",
      "         STYLE       0.45      0.22      0.30       354\n",
      "         TASTE       0.37      0.22      0.28       544\n",
      "        HEALTH       0.39      0.27      0.32      1619\n",
      "       DIVORCE       0.84      0.71      0.77       559\n",
      "\n",
      "      accuracy                           0.67     27159\n",
      "     macro avg       0.63      0.57      0.59     27159\n",
      "  weighted avg       0.66      0.67      0.66     27159\n",
      "\n",
      "accuracy 0.6717478552229463\n"
     ]
    }
   ],
   "source": [
    "# classification report showing model evaluation metrics\n",
    "from sklearn import metrics\n",
    "from sklearn.metrics import accuracy_score\n",
    "print(metrics.classification_report(y_test, y_pred,\n",
    "                                    target_names=news_df['category'].unique()))\n",
    "print('accuracy %s' % accuracy_score(y_pred, y_test))"
   ]
  },
  {
   "cell_type": "code",
   "execution_count": 24,
   "metadata": {},
   "outputs": [],
   "source": [
    "# using multinomialNB\n",
    "from sklearn.naive_bayes import MultinomialNB\n",
    "model = MultinomialNB()\n",
    "X_train, X_test, y_train, y_test, indices_train, indices_test = train_test_split(\n",
    "    features, labels, news_df.index, test_size=0.33, random_state=0\n",
    ")\n",
    "\n",
    "model.fit(X_train, y_train)\n",
    "y_pred = model.predict(X_test)"
   ]
  },
  {
   "cell_type": "code",
   "execution_count": 25,
   "metadata": {},
   "outputs": [
    {
     "name": "stdout",
     "output_type": "stream",
     "text": [
      "                precision    recall  f1-score   support\n",
      "\n",
      "     U.S. NEWS       0.00      0.00      0.00       350\n",
      "     PARENTING       0.67      0.45      0.54      2145\n",
      "         WORLD       0.61      0.80      0.69      2000\n",
      "CULTURE & ARTS       1.00      0.00      0.01       229\n",
      "          TECH       0.97      0.06      0.11       557\n",
      "        SPORTS       0.90      0.48      0.63      1069\n",
      "   ENVIRONMENT       1.00      0.01      0.02       251\n",
      "     EDUCATION       0.96      0.05      0.09       529\n",
      "       SCIENCE       0.88      0.03      0.06       444\n",
      "      WELLNESS       0.32      0.97      0.48      4355\n",
      "      BUSINESS       0.59      0.28      0.38      1405\n",
      "         CRIME       0.85      0.31      0.46       674\n",
      "STYLE & BEAUTY       0.70      0.82      0.76      2417\n",
      "  FOOD & DRINK       0.66      0.50      0.57      1472\n",
      " HOME & LIVING       0.97      0.40      0.57      1126\n",
      "        TRAVEL       0.61      0.81      0.70      2722\n",
      "         MONEY       1.00      0.02      0.04       493\n",
      "      RELIGION       0.97      0.05      0.10       570\n",
      "      WEDDINGS       0.93      0.08      0.14       554\n",
      "ARTS & CULTURE       0.95      0.02      0.05       721\n",
      "         STYLE       1.00      0.01      0.01       354\n",
      "         TASTE       1.00      0.00      0.01       544\n",
      "        HEALTH       0.93      0.03      0.07      1619\n",
      "       DIVORCE       1.00      0.02      0.03       559\n",
      "\n",
      "      accuracy                           0.50     27159\n",
      "     macro avg       0.81      0.26      0.27     27159\n",
      "  weighted avg       0.70      0.50      0.43     27159\n",
      "\n",
      "accuracy 0.4988401634817188\n"
     ]
    },
    {
     "name": "stderr",
     "output_type": "stream",
     "text": [
      "C:\\Users\\hario\\anaconda3\\lib\\site-packages\\sklearn\\metrics\\_classification.py:1318: UndefinedMetricWarning: Precision and F-score are ill-defined and being set to 0.0 in labels with no predicted samples. Use `zero_division` parameter to control this behavior.\n",
      "  _warn_prf(average, modifier, msg_start, len(result))\n",
      "C:\\Users\\hario\\anaconda3\\lib\\site-packages\\sklearn\\metrics\\_classification.py:1318: UndefinedMetricWarning: Precision and F-score are ill-defined and being set to 0.0 in labels with no predicted samples. Use `zero_division` parameter to control this behavior.\n",
      "  _warn_prf(average, modifier, msg_start, len(result))\n",
      "C:\\Users\\hario\\anaconda3\\lib\\site-packages\\sklearn\\metrics\\_classification.py:1318: UndefinedMetricWarning: Precision and F-score are ill-defined and being set to 0.0 in labels with no predicted samples. Use `zero_division` parameter to control this behavior.\n",
      "  _warn_prf(average, modifier, msg_start, len(result))\n"
     ]
    }
   ],
   "source": [
    "from sklearn import metrics\n",
    "from sklearn.metrics import accuracy_score\n",
    "print(metrics.classification_report(y_test, y_pred,\n",
    "                                    target_names=news_df['category'].unique()))\n",
    "print('accuracy %s' % accuracy_score(y_pred, y_test))"
   ]
  },
  {
   "cell_type": "code",
   "execution_count": null,
   "metadata": {},
   "outputs": [],
   "source": []
  }
 ],
 "metadata": {
  "kernelspec": {
   "display_name": "Python 3 (ipykernel)",
   "language": "python",
   "name": "python3"
  },
  "language_info": {
   "codemirror_mode": {
    "name": "ipython",
    "version": 3
   },
   "file_extension": ".py",
   "mimetype": "text/x-python",
   "name": "python",
   "nbconvert_exporter": "python",
   "pygments_lexer": "ipython3",
   "version": "3.9.12"
  },
  "toc": {
   "base_numbering": 1,
   "nav_menu": {},
   "number_sections": true,
   "sideBar": true,
   "skip_h1_title": false,
   "title_cell": "Table of Contents",
   "title_sidebar": "Contents",
   "toc_cell": false,
   "toc_position": {},
   "toc_section_display": true,
   "toc_window_display": false
  }
 },
 "nbformat": 4,
 "nbformat_minor": 2
}
