{
 "cells": [
  {
   "attachments": {},
   "cell_type": "markdown",
   "id": "09825c66",
   "metadata": {
    "id": "09825c66"
   },
   "source": [
    "Q-1. A university wants to understand the relationship between the SAT scores of its\n",
    "applicants and their college GPA. They collect data on 500 students, including their SAT\n",
    "scores (out of 1600) and their college GPA (on a 4.0 scale). They find that the correlation\n",
    "coefficient between SAT scores and college GPA is 0.7. What does this correlation\n",
    "coefficient indicate about the relationship between SAT scores and college GPA?"
   ]
  },
  {
   "attachments": {},
   "cell_type": "markdown",
   "id": "bc4de190",
   "metadata": {
    "id": "bc4de190"
   },
   "source": [
    "Ans:\n",
    "    A correlation coefficient of 0.7 indicates a strong positive relationship between SAT scores and college GPA. The correlation coefficient ranges from -1 to 1, where 1 represents a perfect positive relationship, 0 represents no relationship, and -1 represents a perfect negative relationship. In this case, the correlation coefficient of 0.7 suggests a strong positive association, indicating that higher SAT scores are generally associated with higher college GPAs.\n",
    "\n",
    "It's important to note that correlation does not imply causation. While the correlation coefficient indicates a relationship between SAT scores and college GPA, it does not establish a cause-and-effect relationship. Other factors, such as study habits, motivation, and personal circumstances, can also influence college GPA and should be considered when interpreting the results."
   ]
  },
  {
   "attachments": {},
   "cell_type": "markdown",
   "id": "61bccaa0",
   "metadata": {
    "id": "61bccaa0"
   },
   "source": [
    "Q-2. Consider a dataset containing the heights (in centimeters) of 1000 individuals. The\n",
    "mean height is 170 cm with a standard deviation of 10 cm. The dataset is approximately\n",
    "normally distributed, and its skewness is approximately zero. Based on this information,\n",
    "answer the following questions:\n",
    "a. What percentage of individuals in the dataset have heights between 160 cm\n",
    "and 180 cm?\n",
    "b. If we randomly select 100 individuals from the dataset, what is the probability\n",
    "that their average height is greater than 175 cm?\n",
    "c. Assuming the dataset follows a normal distribution, what is the z-score\n",
    "corresponding to a height of 185 cm?\n",
    "d. We know that 5% of the dataset has heights below a certain value. What is\n",
    "the approximate height corresponding to this threshold?\n",
    "e. Calculate the coefficient of variation (CV) for the dataset.\n",
    "f. Calculate the skewness of the dataset and interpret the result."
   ]
  },
  {
   "attachments": {},
   "cell_type": "markdown",
   "id": "7adb68b2",
   "metadata": {
    "id": "7adb68b2"
   },
   "source": [
    "Ans: a. To determine the percentage of individuals in the dataset with heights between 160 cm and 180 cm, we can use the properties of the normal distribution. \n",
    "\n",
    "Since the mean height is 170 cm and the standard deviation is 10 cm, we can calculate the z-scores for both heights using the formula: z = (x - μ) / σ, where x is the height, μ is the mean, and σ is the standard deviation.\n",
    "\n",
    "For 160 cm:\n",
    "z1 = (160 - 170) / 10 = -1\n",
    "\n",
    "For 180 cm:\n",
    "z2 = (180 - 170) / 10 = 1\n",
    "\n",
    "Using a standard normal distribution table or a statistical software, we can find the area under the curve between z = -1 and z = 1, which represents the percentage of individuals with heights between 160 cm and 180 cm.\n",
    "\n",
    "The area between z = -1 and z = 1 is approximately 0.6826 or 68.26%. Therefore, approximately 68.26% of individuals in the dataset have heights between 160 cm and 180 cm.\n",
    "\n",
    "b. To calculate the probability that the average height of a randomly selected group of 100 individuals is greater than 175 cm, we can use the Central Limit Theorem. The Central Limit Theorem states that the distribution of sample means approaches a normal distribution with a mean equal to the population mean and a standard deviation equal to the population standard deviation divided by the square root of the sample size.\n",
    "\n",
    "The standard deviation of the sample means is calculated as σ / sqrt(n), where σ is the population standard deviation and n is the sample size.\n",
    "\n",
    "In this case, the population standard deviation is 10 cm, and the sample size is 100.\n",
    "\n",
    "Standard deviation of the sample means = 10 / sqrt(100) = 10 / 10 = 1\n",
    "\n",
    "Now, we can calculate the z-score for a height of 175 cm using the formula: z = (x - μ) / σ, where x is the height, μ is the mean, and σ is the standard deviation.\n",
    "\n",
    "z = (175 - 170) / 1 = 5\n",
    "\n",
    "Using a standard normal distribution table or a statistical software, we can find the area to the right of z = 5, which represents the probability that the average height is greater than 175 cm.\n",
    "\n",
    "The area to the right of z = 5 is very close to 0. Therefore, the probability that the average height of a randomly selected group of 100 individuals is greater than 175 cm is nearly 0.\n",
    "\n",
    "c. To calculate the z-score corresponding to a height of 185 cm, we can use the formula: z = (x - μ) / σ, where x is the height, μ is the mean, and σ is the standard deviation.\n",
    "\n",
    "z = (185 - 170) / 10 = 15 / 10 = 1.5\n",
    "\n",
    "Therefore, the z-score corresponding to a height of 185 cm is 1.5.\n",
    "\n",
    "d. To find the approximate height corresponding to the threshold where 5% of the dataset has heights below that value, we need to find the z-score that corresponds to the 5th percentile.\n",
    "\n",
    "Using a standard normal distribution table or a statistical software, we can find the z-score that corresponds to the 5th percentile. In this case, the z-score is approximately -1.645.\n",
    "\n",
    "Now, we can calculate the height corresponding to this z-score using the formula: x = μ + z * σ, where x is the height, μ is the mean, z is the z-score, and σ is the standard deviation.\n",
    "\n",
    "x = 170 + (-1.645) * 10 = 170 -"
   ]
  },
  {
   "cell_type": "code",
   "execution_count": 1,
   "id": "cabbbaaf",
   "metadata": {
    "colab": {
     "base_uri": "https://localhost:8080/"
    },
    "executionInfo": {
     "elapsed": 8,
     "status": "ok",
     "timestamp": 1684827410037,
     "user": {
      "displayName": "Kirti Biswal",
      "userId": "13895208963743556891"
     },
     "user_tz": -330
    },
    "id": "cabbbaaf",
    "outputId": "076fc42b-e2bf-4a17-fd62-1c8fd10ee7ed"
   },
   "outputs": [
    {
     "name": "stdout",
     "output_type": "stream",
     "text": [
      "Percentage of individuals with heights between 160 cm and 180 cm: 68.27%\n",
      "Probability that the average height of 100 individuals is greater than 175 cm: 0.0000\n",
      "Z-score corresponding to a height of 185 cm: 1.50\n",
      "Approximate height corresponding to the 5th percentile: 153.55\n",
      "Coefficient of variation (CV) for the dataset: 5.88%\n",
      "Skewness of the dataset: 0\n"
     ]
    }
   ],
   "source": [
    "import scipy.stats as stats\n",
    "\n",
    "# Given values\n",
    "mean_height = 170\n",
    "std_dev = 10\n",
    "\n",
    "# a. Percentage of individuals with heights between 160 cm and 180 cm\n",
    "z1 = (160 - mean_height) / std_dev\n",
    "z2 = (180 - mean_height) / std_dev\n",
    "percentage_between = stats.norm.cdf(z2) - stats.norm.cdf(z1)\n",
    "percentage_between *= 100\n",
    "\n",
    "print(f\"Percentage of individuals with heights between 160 cm and 180 cm: {percentage_between:.2f}%\")\n",
    "\n",
    "# b. Probability that the average height of 100 individuals is greater than 175 cm\n",
    "sample_size = 100\n",
    "sample_mean_std_dev = std_dev / (sample_size ** 0.5)\n",
    "z_score = (175 - mean_height) / sample_mean_std_dev\n",
    "probability_greater = 1 - stats.norm.cdf(z_score)\n",
    "\n",
    "print(f\"Probability that the average height of 100 individuals is greater than 175 cm: {probability_greater:.4f}\")\n",
    "\n",
    "# c. Z-score corresponding to a height of 185 cm\n",
    "height = 185\n",
    "z_score = (height - mean_height) / std_dev\n",
    "\n",
    "print(f\"Z-score corresponding to a height of 185 cm: {z_score:.2f}\")\n",
    "\n",
    "# d. Approximate height corresponding to the threshold where 5% of the dataset has heights below that value\n",
    "percentile = 0.05\n",
    "threshold = stats.norm.ppf(percentile, mean_height, std_dev)\n",
    "\n",
    "print(f\"Approximate height corresponding to the 5th percentile: {threshold:.2f}\")\n",
    "\n",
    "# e. Coefficient of variation (CV) for the dataset\n",
    "cv = (std_dev / mean_height) * 100\n",
    "\n",
    "print(f\"Coefficient of variation (CV) for the dataset: {cv:.2f}%\")\n",
    "\n",
    "# f. Skewness of the dataset\n",
    "skewness = 0  # Given that the skewness is approximately zero for the dataset\n",
    "\n",
    "print(f\"Skewness of the dataset: {skewness}\")\n"
   ]
  },
  {
   "attachments": {},
   "cell_type": "markdown",
   "id": "45449944",
   "metadata": {
    "id": "45449944"
   },
   "source": [
    "Q-3. Consider the ‘Blood Pressure Before’ and ‘Blood Pressure After’ columns from the\n",
    "data and calculate the following\n",
    "https://drive.google.com/file/d/1mCjtYHiX--mMUjicuaP2gH3k-SnFxt8Y/view?usp=share_\n",
    "a. Measure the dispersion in both and interpret the results.\n",
    "b. Calculate mean and 5% confidence interval and plot it in a graph\n",
    "c. Calculate the Mean absolute deviation and Standard deviation and interpret\n",
    "the results.\n",
    "d. Calculate the correlation coefficient and check the significance of it at 1% level\n",
    "of significance."
   ]
  },
  {
   "cell_type": "code",
   "execution_count": 4,
   "id": "cce59668",
   "metadata": {
    "executionInfo": {
     "elapsed": 431,
     "status": "ok",
     "timestamp": 1684827520897,
     "user": {
      "displayName": "Kirti Biswal",
      "userId": "13895208963743556891"
     },
     "user_tz": -330
    },
    "id": "cce59668"
   },
   "outputs": [],
   "source": [
    "import pandas as pd\n",
    "import matplotlib.pyplot as plt\n",
    "\n",
    "data = pd.read_csv(\"data.csv\")\n",
    "data.columns = [\"Patient ID\",\"Blood Pressure Before\",\"Blood Pressure After\"]\n",
    "data.drop(\"Patient ID\",axis=1,inplace=True)"
   ]
  },
  {
   "cell_type": "code",
   "execution_count": 5,
   "id": "285b45c3",
   "metadata": {
    "colab": {
     "base_uri": "https://localhost:8080/"
    },
    "executionInfo": {
     "elapsed": 4,
     "status": "ok",
     "timestamp": 1684827525330,
     "user": {
      "displayName": "Kirti Biswal",
      "userId": "13895208963743556891"
     },
     "user_tz": -330
    },
    "id": "285b45c3",
    "outputId": "74457dcf-ab4b-4f21-b7c1-30990a50f1e6"
   },
   "outputs": [
    {
     "name": "stdout",
     "output_type": "stream",
     "text": [
      "Blood Pressure Before    43.1019\n",
      "Blood Pressure After     46.9704\n",
      "dtype: float64\n",
      "==============================\n",
      "Blood Pressure Before    6.565204\n",
      "Blood Pressure After     6.853495\n",
      "dtype: float64\n"
     ]
    }
   ],
   "source": [
    "# a.Measure the dispersion in both and interpret the results.\n",
    "\n",
    "import numpy as np\n",
    "# Calculate variance and standard deviation\n",
    "variance = np.var(data)\n",
    "std_dev = np.std(data)\n",
    "print(variance)\n",
    "print(\"=\"*30)\n",
    "print(std_dev)"
   ]
  },
  {
   "cell_type": "code",
   "execution_count": 6,
   "id": "2f1a5ada",
   "metadata": {
    "colab": {
     "base_uri": "https://localhost:8080/",
     "height": 706
    },
    "executionInfo": {
     "elapsed": 1434,
     "status": "ok",
     "timestamp": 1684827530787,
     "user": {
      "displayName": "Kirti Biswal",
      "userId": "13895208963743556891"
     },
     "user_tz": -330
    },
    "id": "2f1a5ada",
    "outputId": "ca2eb2f7-575e-4fd7-fab3-5be43506a6ab"
   },
   "outputs": [
    {
     "name": "stderr",
     "output_type": "stream",
     "text": [
      "C:\\Users\\hario\\anaconda3\\lib\\site-packages\\numpy\\core\\fromnumeric.py:3472: FutureWarning: In a future version, DataFrame.mean(axis=None) will return a scalar mean over the entire DataFrame. To retain the old behavior, use 'frame.mean(axis=0)' or just 'frame.mean()'\n",
      "  return mean(axis=axis, dtype=dtype, out=out, **kwargs)\n",
      "No artists with labels found to put in legend.  Note that artists whose label start with an underscore are ignored when legend() is called with no argument.\n"
     ]
    },
    {
     "data": {
      "image/png": "[encoded data removed]",
      "text/plain": [
       "<Figure size 576x432 with 1 Axes>"
      ]
     },
     "metadata": {
      "needs_background": "light"
     },
     "output_type": "display_data"
    },
    {
     "name": "stdout",
     "output_type": "stream",
     "text": [
      "Mean data: 170.00\n",
      "Confidence Interval (95%): (array([132.60075849, 126.99326698]), array([135.21924151, 129.72673302]))\n"
     ]
    }
   ],
   "source": [
    "#b. Calculate mean and 5% confidence interval and plot it in a graph\n",
    "# Calculate mean\n",
    "mean = np.mean(data)\n",
    "\n",
    "# Calculate 5% confidence interval\n",
    "confidence_interval = stats.t.interval(0.95, len(data) - 1, loc=np.mean(data), scale=stats.sem(data))\n",
    "\n",
    "# Plotting the mean and confidence interval\n",
    "plt.figure(figsize=(8, 6))\n",
    "plt.hist(data, bins=30, alpha=0.5)\n",
    "# plt.axvline(mean, color='r', linestyle='--', label='Mean')\n",
    "#plt.axvline(confidence_interval[0], color='g', linestyle='--', label='95% Confidence Interval')\n",
    "#plt.axvline(confidence_interval[1], color='g', linestyle='--')\n",
    "plt.xlabel('Height (cm)')\n",
    "plt.ylabel('Frequency')\n",
    "plt.title('Distribution with Mean and 95% Confidence Interval')\n",
    "plt.legend()\n",
    "plt.show()\n",
    "\n",
    "print(f\"Mean data: {mean_height:.2f}\")\n",
    "print(f\"Confidence Interval (95%): {confidence_interval}\")"
   ]
  },
  {
   "cell_type": "code",
   "execution_count": 7,
   "id": "ed2d52da",
   "metadata": {
    "id": "ed2d52da",
    "outputId": "01713de7-0c0f-45e3-cab4-266f4ba480ef"
   },
   "outputs": [
    {
     "name": "stdout",
     "output_type": "stream",
     "text": [
      "Blood Pressure Before    5.7118\n",
      "Blood Pressure After     5.9000\n",
      "dtype: float64\n",
      "**************************************************\n",
      "Blood Pressure Before    6.565204\n",
      "Blood Pressure After     6.853495\n",
      "dtype: float64\n"
     ]
    }
   ],
   "source": [
    "#c. Calculate the Mean absolute deviation and Standard deviation and interpretthe results\n",
    "c= np.mean(np.abs(data-np.mean(data)))\n",
    "sd = np.std(data)\n",
    "print(c)\n",
    "print(\"*\"*50)\n",
    "print(sd)"
   ]
  },
  {
   "cell_type": "code",
   "execution_count": 8,
   "id": "b935f4f3",
   "metadata": {
    "id": "b935f4f3",
    "outputId": "b89c7969-cdbc-45e2-e721-d2ebec474b9c"
   },
   "outputs": [
    {
     "name": "stdout",
     "output_type": "stream",
     "text": [
      "Correlation Coefficient: 0.98\n",
      "p-value: 0.0000\n",
      "The correlation coefficient is statistically significant at the 1% level of significance.\n"
     ]
    }
   ],
   "source": [
    "#d. Calculate the correlation coefficient and check the significance of it at 1% levelof significance.\n",
    "\n",
    "import scipy.stats as stats\n",
    "\n",
    "# Given datasets\n",
    "x = data[\"Blood Pressure Before\"]  \n",
    "y = data[\"Blood Pressure After\"]\n",
    "\n",
    "# Calculate correlation coefficient\n",
    "corr_coef, p_value = stats.pearsonr(x, y)\n",
    "\n",
    "print(f\"Correlation Coefficient: {corr_coef:.2f}\")\n",
    "print(f\"p-value: {p_value:.4f}\")\n",
    "\n",
    "# Check significance at 1% level of significance\n",
    "if p_value < 0.01:\n",
    "    print(\"The correlation coefficient is statistically significant at the 1% level of significance.\")\n",
    "else:\n",
    "    print(\"The correlation coefficient is not statistically significant at the 1% level of significance.\")\n"
   ]
  },
  {
   "attachments": {},
   "cell_type": "markdown",
   "id": "b9ea89ce",
   "metadata": {
    "id": "b9ea89ce"
   },
   "source": [
    "Q-4. A group of 20 friends decide to play a game in which they each write a number\n",
    "between 1 and 20 on a slip of paper and put it into a hat. They then draw one slip of paper\n",
    "at random. What is the probability that the number on the slip of paper is a perfect square\n",
    "(i.e., 1, 4, 9, or 16)"
   ]
  },
  {
   "cell_type": "code",
   "execution_count": 9,
   "id": "a7e99ea0",
   "metadata": {
    "id": "a7e99ea0",
    "outputId": "33146f43-f91d-4278-ab61-76991b49c071"
   },
   "outputs": [
    {
     "name": "stdout",
     "output_type": "stream",
     "text": [
      "The probability of drawing a perfect square number is: 0.20\n"
     ]
    }
   ],
   "source": [
    "# Number of favorable outcomes (perfect squares)\n",
    "favorable_outcomes = 4\n",
    "\n",
    "# Total number of possible outcomes\n",
    "total_outcomes = 20\n",
    "\n",
    "# Calculate the probability\n",
    "probability = favorable_outcomes / total_outcomes\n",
    "\n",
    "# Display the result\n",
    "print(f\"The probability of drawing a perfect square number is: {probability:.2f}\")"
   ]
  },
  {
   "attachments": {},
   "cell_type": "markdown",
   "id": "c8a5cce2",
   "metadata": {
    "id": "c8a5cce2"
   },
   "source": [
    "Q-5. A certain city has two taxi companies: Company A has 80% of the taxis and\n",
    "Company B has 20% of the taxis. Company A's taxis have a 95% success rate for picking\n",
    "up passengers on time, while Company B's taxis have a 90% success rate. If a randomly\n",
    "selected taxi is late, what is the probability that it belongs to Company A?"
   ]
  },
  {
   "cell_type": "code",
   "execution_count": 10,
   "id": "d65ec27d",
   "metadata": {
    "id": "d65ec27d",
    "outputId": "40d1790f-d059-4088-9515-72cf6235773c"
   },
   "outputs": [
    {
     "name": "stdout",
     "output_type": "stream",
     "text": [
      "The probability that a randomly selected late taxi belongs to Company A is: 0.67\n"
     ]
    }
   ],
   "source": [
    "# Given probabilities\n",
    "P_A = 0.8\n",
    "P_B_given_A = 0.05\n",
    "P_B_given_not_A = 0.1\n",
    "\n",
    "# Calculate P(not A)\n",
    "P_not_A = 1 - P_A\n",
    "\n",
    "# Calculate P(B)\n",
    "P_B = P_B_given_A * P_A + P_B_given_not_A * P_not_A\n",
    "\n",
    "# Calculate P(A|B) using Bayes' theorem\n",
    "P_A_given_B = (P_B_given_A * P_A) / P_B\n",
    "\n",
    "# Display the result\n",
    "print(f\"The probability that a randomly selected late taxi belongs to Company A is: {P_A_given_B:.2f}\")\n"
   ]
  },
  {
   "attachments": {},
   "cell_type": "markdown",
   "id": "e66fbe20",
   "metadata": {
    "id": "e66fbe20"
   },
   "source": [
    "Q-6. A pharmaceutical company is developing a drug that is supposed to reduce blood\n",
    "pressure. They conduct a clinical trial with 100 patients and record their blood\n",
    "pressure before and after taking the drug. The company wants to know if the change\n",
    "in blood pressure follows a normal distribution.\n",
    "https://drive.google.com/file/d/1mCjtYHiX--mMUjicuaP2gH3k-SnFxt8Y/view?usp=share"
   ]
  },
  {
   "cell_type": "code",
   "execution_count": 11,
   "id": "9af5ce11",
   "metadata": {
    "id": "9af5ce11",
    "outputId": "71fcb7cd-05ad-4460-c444-87b40d6f8d2e"
   },
   "outputs": [
    {
     "name": "stdout",
     "output_type": "stream",
     "text": [
      "Shapiro-Wilk Test - p-value: 0.0004\n",
      "The blood pressure changes do not follow a normal distribution.\n"
     ]
    }
   ],
   "source": [
    "blood_pressure_changes = data\n",
    "# Perform Shapiro-Wilk test for normality\n",
    "statistic, p_value = stats.shapiro(blood_pressure_changes)\n",
    "\n",
    "alpha = 0.05  # Set the significance level\n",
    "\n",
    "print(f\"Shapiro-Wilk Test - p-value: {p_value:.4f}\")\n",
    "\n",
    "if p_value > alpha:\n",
    "    print(\"The blood pressure changes follow a normal distribution.\")\n",
    "else:\n",
    "    print(\"The blood pressure changes do not follow a normal distribution.\")"
   ]
  },
  {
   "attachments": {},
   "cell_type": "markdown",
   "id": "a6186345",
   "metadata": {
    "id": "a6186345"
   },
   "source": [
    "Q-8. The anxiety levels of 10 participants were measured before and after a new therapy.\n",
    "The scores are not normally distributed. Use the Wilcoxon signed-rank test to test whether\n",
    "the therapy had a significant effect on anxiety levels. The data is given below: Participant\n",
    "Before therapy After therapy Difference\n"
   ]
  },
  {
   "cell_type": "code",
   "execution_count": 12,
   "id": "720c2e43",
   "metadata": {
    "id": "720c2e43",
    "outputId": "c5a2e522-4a37-4183-9cd4-57d03f95e013"
   },
   "outputs": [
    {
     "name": "stdout",
     "output_type": "stream",
     "text": [
      "The therapy had a significant effect on anxiety levels.\n"
     ]
    }
   ],
   "source": [
    "before_therapy = [10,8,12,15,6,9,11,7,14,10]  # List of anxiety levels before therapy\n",
    "after_therapy = [7,6,10,12,5,8,9,6,12,8]  # List of anxiety levels after therapy\n",
    "statistic, p_value = stats.wilcoxon(before_therapy, after_therapy)\n",
    "alpha = 0.05\n",
    "\n",
    "if p_value < alpha:\n",
    "    print(\"The therapy had a significant effect on anxiety levels.\")\n",
    "else:\n",
    "    print(\"There was no significant effect of the therapy on anxiety levels.\")\n",
    "\n",
    "\n"
   ]
  },
  {
   "attachments": {},
   "cell_type": "markdown",
   "id": "763051e9",
   "metadata": {
    "id": "763051e9"
   },
   "source": [
    "Q-9. Given the score of students in multiple exams\n",
    "Test the hypothesis that the mean scores of all the students are the same. If not, name the\n",
    "student with the highest score."
   ]
  },
  {
   "cell_type": "code",
   "execution_count": 13,
   "id": "6fee3490",
   "metadata": {
    "id": "6fee3490",
    "outputId": "c611b759-6ef6-4edf-b805-dc528a2e3d94"
   },
   "outputs": [
    {
     "name": "stdout",
     "output_type": "stream",
     "text": [
      "The mean scores of the students are the same.\n"
     ]
    }
   ],
   "source": [
    "# Prepare the data\n",
    "exam1_scores = [85,70,90,75,95]  # Scores of students in Exam 1\n",
    "exam2_scores = [90,80,85,70,92]  # Scores of students in Exam 2\n",
    "\n",
    "# Perform one-way ANOVA\n",
    "f_statistic, p_value = stats.f_oneway(exam1_scores, exam2_scores)\n",
    "\n",
    "alpha = 0.05  # Set the significance level\n",
    "\n",
    "# Check if the null hypothesis is rejected or not\n",
    "if p_value < alpha:\n",
    "    print(\"The mean scores of the students are not the same.\")\n",
    "    \n",
    "    # Find the student with the highest score\n",
    "    all_scores = exam1_scores + exam2_scores \n",
    "    highest_score = max(all_scores)\n",
    "    \n",
    "    # Find the student(s) with the highest score\n",
    "    highest_scoring_students = [i + 1 for i, score in enumerate(all_scores) if score == highest_score]\n",
    "    print(f\"The student(s) with the highest score is/are: {highest_scoring_students}\")\n",
    "    \n",
    "else:\n",
    "    print(\"The mean scores of the students are the same.\")\n"
   ]
  },
  {
   "attachments": {},
   "cell_type": "markdown",
   "id": "c5b8b08c",
   "metadata": {
    "id": "c5b8b08c"
   },
   "source": [
    "Q-10. A factory produces light bulbs, and the probability of a bulb being defective is 0.05.\n",
    "The factory produces a large batch of 500 light bulbs.\n",
    "a. What is the probability that exactly 20 bulbs are defective?\n",
    "b. What is the probability that at least 10 bulbs are defective?\n",
    "c. What is the probability that at max 15 bulbs are defective?\n",
    "d. On average, how many defective bulbs would you expect in a batch of 500"
   ]
  },
  {
   "cell_type": "code",
   "execution_count": 14,
   "id": "ec85c014",
   "metadata": {
    "id": "ec85c014",
    "outputId": "3c4bc760-ae27-4ea6-d081-f643aae51abc"
   },
   "outputs": [
    {
     "name": "stdout",
     "output_type": "stream",
     "text": [
      "The probability that exactly 20 bulbs are defective: 0.0516\n",
      "The probability that at least 10 bulbs are defective: 0.9998\n",
      "The probability that at most 15 bulbs are defective: 0.0199\n",
      "On average, you would expect 25.00 defective bulbs in a batch of 500.\n"
     ]
    }
   ],
   "source": [
    "import scipy.stats as stats\n",
    "\n",
    "total_bulbs = 500\n",
    "probability_defective = 0.05\n",
    "\n",
    "# a. Probability of exactly 20 bulbs being defective\n",
    "k = 20\n",
    "p_20_defective = stats.binom.pmf(k, total_bulbs, probability_defective)\n",
    "print(f\"The probability that exactly 20 bulbs are defective: {p_20_defective:.4f}\")\n",
    "\n",
    "# b. Probability of at least 10 bulbs being defective\n",
    "k_min = 10\n",
    "p_at_least_10_defective = 1 - stats.binom.cdf(k_min - 1, total_bulbs, probability_defective)\n",
    "print(f\"The probability that at least 10 bulbs are defective: {p_at_least_10_defective:.4f}\")\n",
    "\n",
    "# c. Probability of at most 15 bulbs being defective\n",
    "k_max = 15\n",
    "p_at_most_15_defective = stats.binom.cdf(k_max, total_bulbs, probability_defective)\n",
    "print(f\"The probability that at most 15 bulbs are defective: {p_at_most_15_defective:.4f}\")\n",
    "\n",
    "# d. Expected number of defective bulbs in a batch of 500\n",
    "expected_defective_bulbs = total_bulbs * probability_defective\n",
    "print(f\"On average, you would expect {expected_defective_bulbs:.2f} defective bulbs in a batch of 500.\")\n"
   ]
  },
  {
   "attachments": {},
   "cell_type": "markdown",
   "id": "55b264f6",
   "metadata": {
    "id": "55b264f6"
   },
   "source": [
    "Q-11. Given the data of a feature contributing to different classes\n",
    "https://drive.google.com/file/d/1mCjtYHiX--mMUjicuaP2gH3k-SnFxt8Y/view?usp\n",
    "=share_\n",
    "a. Check whether the distribution of all the classes are the same or not.\n",
    "b. Check for the equality of variance/\n",
    "c. Which amount LDA and QDA would perform better on this data for\n",
    "classification and why.\n",
    "d. Check the equality of mean for between all the classes."
   ]
  },
  {
   "cell_type": "code",
   "execution_count": 15,
   "id": "ea2c66ff",
   "metadata": {
    "id": "ea2c66ff",
    "outputId": "5c289979-b26e-4d1a-b3c0-8891838bdf1a"
   },
   "outputs": [
    {
     "data": {
      "text/plain": [
       "<AxesSubplot:ylabel='Count'>"
      ]
     },
     "execution_count": 15,
     "metadata": {},
     "output_type": "execute_result"
    },
    {
     "data": {
      "image/png": "[encoded data removed]",
      "text/plain": [
       "<Figure size 432x288 with 1 Axes>"
      ]
     },
     "metadata": {
      "needs_background": "light"
     },
     "output_type": "display_data"
    }
   ],
   "source": [
    "import seaborn as sns\n",
    "sns.histplot(data)"
   ]
  },
  {
   "attachments": {},
   "cell_type": "markdown",
   "id": "377557e5",
   "metadata": {
    "id": "377557e5"
   },
   "source": [
    "Q-12. A pharmaceutical company develops a new drug and wants to compare its\n",
    "effectiveness against a standard drug for treating a particular condition. They conduct a\n",
    "study with two groups: Group A receives the new drug, and Group B receives the standard\n",
    "drug. The company measures the improvement in a specific symptom for both groups after\n",
    "a 4-week treatment period.\n",
    "a. The company collects data from 30 patients in each group and calculates the\n",
    "mean improvement score and the standard deviation of improvement for each\n",
    "group. The mean improvement score for Group A is 2.5 with a standard\n",
    "deviation of 0.8, while the mean improvement score for Group B is 2.2 with a\n",
    "standard deviation of 0.6. Conduct a t-test to determine if there is a significant\n",
    "difference in the mean improvement scores between the two groups. Use a\n",
    "significance level of 0.05.\n",
    "b. Based on the t-test results, state whether the null hypothesis should be\n",
    "rejected or not. Provide a conclusion in the context of the study."
   ]
  },
  {
   "cell_type": "code",
   "execution_count": 16,
   "id": "b8176c33",
   "metadata": {
    "id": "b8176c33",
    "outputId": "24d8920e-d4d4-4260-e3d3-d063d9eb0f08"
   },
   "outputs": [
    {
     "name": "stdout",
     "output_type": "stream",
     "text": [
      "Fail to reject the null hypothesis.\n",
      "There is no significant difference in the mean improvement scores between Group A and Group B.\n"
     ]
    }
   ],
   "source": [
    "# Define the sample statistics for Group A\n",
    "mean_a = 2.5\n",
    "std_a = 0.8\n",
    "n_a = 30\n",
    "\n",
    "# Define the sample statistics for Group B\n",
    "mean_b = 2.2\n",
    "std_b = 0.6\n",
    "n_b = 30\n",
    "\n",
    "# Calculate the t-statistic and p-value for the two-sample independent t-test\n",
    "t_statistic, p_value = stats.ttest_ind_from_stats(mean_a, std_a, n_a, mean_b, std_b, n_b)\n",
    "\n",
    "# Compare the p-value to the significance level\n",
    "alpha = 0.05\n",
    "\n",
    "if p_value < alpha:\n",
    "    print(\"Reject the null hypothesis.\")\n",
    "    print(\"There is a significant difference in the mean improvement scores between Group A and Group B.\")\n",
    "else:\n",
    "    print(\"Fail to reject the null hypothesis.\")\n",
    "    print(\"There is no significant difference in the mean improvement scores between Group A and Group B.\")"
   ]
  }
 ],
 "metadata": {
  "colab": {
   "provenance": []
  },
  "kernelspec": {
   "display_name": "Python 3 (ipykernel)",
   "language": "python",
   "name": "python3"
  },
  "language_info": {
   "codemirror_mode": {
    "name": "ipython",
    "version": 3
   },
   "file_extension": ".py",
   "mimetype": "text/x-python",
   "name": "python",
   "nbconvert_exporter": "python",
   "pygments_lexer": "ipython3",
   "version": "3.9.12"
  }
 },
 "nbformat": 4,
 "nbformat_minor": 5
}
